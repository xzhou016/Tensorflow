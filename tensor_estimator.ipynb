{
 "cells": [
  {
   "cell_type": "code",
   "execution_count": 1,
   "metadata": {},
   "outputs": [],
   "source": [
    "import numpy as np\n",
    "import tensorflow as tf"
   ]
  },
  {
   "cell_type": "code",
   "execution_count": 2,
   "metadata": {},
   "outputs": [],
   "source": [
    "# Declare a list of features, currently only one\n",
    "feature_columns = [tf.feature_column.numeric_column(\"x\", shape=[1])]"
   ]
  },
  {
   "cell_type": "code",
   "execution_count": 3,
   "metadata": {},
   "outputs": [
    {
     "name": "stdout",
     "output_type": "stream",
     "text": [
      "INFO:tensorflow:Using default config.\n",
      "WARNING:tensorflow:Using temporary folder as model directory: C:\\Users\\jakex\\AppData\\Local\\Temp\\tmpxiimqv1m\n",
      "INFO:tensorflow:Using config: {'_num_worker_replicas': 1, '_master': '', '_is_chief': True, '_save_checkpoints_secs': 600, '_num_ps_replicas': 0, '_keep_checkpoint_max': 5, '_task_id': 0, '_save_summary_steps': 100, '_tf_random_seed': None, '_cluster_spec': <tensorflow.python.training.server_lib.ClusterSpec object at 0x0000019A99D92470>, '_task_type': 'worker', '_model_dir': 'C:\\\\Users\\\\jakex\\\\AppData\\\\Local\\\\Temp\\\\tmpxiimqv1m', '_session_config': None, '_save_checkpoints_steps': None, '_keep_checkpoint_every_n_hours': 10000, '_log_step_count_steps': 100, '_service': None}\n"
     ]
    }
   ],
   "source": [
    "# Create an estimator for fitting and evaluation\n",
    "estimator = tf.estimator.LinearRegressor(feature_columns=feature_columns)"
   ]
  },
  {
   "cell_type": "code",
   "execution_count": 4,
   "metadata": {},
   "outputs": [],
   "source": [
    "# Data\n",
    "x_train = np.array([1., 2., 3., 4.])\n",
    "y_train = np.array([0, -1, -2, -3])\n",
    "\n",
    "x_eval = np.array([2, 5, 8, 1])\n",
    "y_eval = np.array([-1.01, -4.1, -7, 0])"
   ]
  },
  {
   "cell_type": "code",
   "execution_count": 5,
   "metadata": {},
   "outputs": [],
   "source": [
    "#\n",
    "input_fn = tf.estimator.inputs.numpy_input_fn(\n",
    "{\"x\":x_train}, y_train, batch_size=4, num_epochs=None, shuffle=True)\n",
    "\n",
    "train_input_fn = tf.estimator.inputs.numpy_input_fn(\n",
    "{\"x\":x_train}, y_train, batch_size=4, num_epochs=1000, shuffle=False)\n",
    "\n",
    "eval_input_fn = tf.estimator.inputs.numpy_input_fn(\n",
    "{\"x\":x_eval}, y_eval, batch_size=4, num_epochs=1000, shuffle=False)"
   ]
  },
  {
   "cell_type": "code",
   "execution_count": 6,
   "metadata": {},
   "outputs": [
    {
     "name": "stdout",
     "output_type": "stream",
     "text": [
      "INFO:tensorflow:Create CheckpointSaverHook.\n",
      "INFO:tensorflow:Saving checkpoints for 1 into C:\\Users\\jakex\\AppData\\Local\\Temp\\tmpxiimqv1m\\model.ckpt.\n",
      "INFO:tensorflow:loss = 15.0, step = 1\n",
      "INFO:tensorflow:global_step/sec: 429.51\n",
      "INFO:tensorflow:loss = 0.243783, step = 101 (0.236 sec)\n",
      "INFO:tensorflow:global_step/sec: 599.14\n",
      "INFO:tensorflow:loss = 0.0569957, step = 201 (0.167 sec)\n",
      "INFO:tensorflow:global_step/sec: 761.882\n",
      "INFO:tensorflow:loss = 0.0262362, step = 301 (0.131 sec)\n",
      "INFO:tensorflow:global_step/sec: 592.566\n",
      "INFO:tensorflow:loss = 0.000803737, step = 401 (0.170 sec)\n",
      "INFO:tensorflow:global_step/sec: 590.478\n",
      "INFO:tensorflow:loss = 0.000553077, step = 501 (0.170 sec)\n",
      "INFO:tensorflow:global_step/sec: 631.91\n",
      "INFO:tensorflow:loss = 0.0001576, step = 601 (0.157 sec)\n",
      "INFO:tensorflow:global_step/sec: 666.916\n",
      "INFO:tensorflow:loss = 1.21909e-05, step = 701 (0.150 sec)\n",
      "INFO:tensorflow:global_step/sec: 577.414\n",
      "INFO:tensorflow:loss = 2.98159e-06, step = 801 (0.174 sec)\n",
      "INFO:tensorflow:global_step/sec: 602.636\n",
      "INFO:tensorflow:loss = 1.29379e-06, step = 901 (0.165 sec)\n",
      "INFO:tensorflow:Saving checkpoints for 1000 into C:\\Users\\jakex\\AppData\\Local\\Temp\\tmpxiimqv1m\\model.ckpt.\n",
      "INFO:tensorflow:Loss for final step: 6.76898e-07.\n"
     ]
    },
    {
     "data": {
      "text/plain": [
       "<tensorflow.python.estimator.canned.linear.LinearRegressor at 0x19aaccdada0>"
      ]
     },
     "execution_count": 6,
     "metadata": {},
     "output_type": "execute_result"
    }
   ],
   "source": [
    "# Invoking 1000 training steps\n",
    "estimator.train(input_fn=input_fn, steps=1000)"
   ]
  },
  {
   "cell_type": "code",
   "execution_count": 7,
   "metadata": {},
   "outputs": [
    {
     "name": "stdout",
     "output_type": "stream",
     "text": [
      "INFO:tensorflow:Starting evaluation at 2018-01-08-18:21:18\n",
      "INFO:tensorflow:Restoring parameters from C:\\Users\\jakex\\AppData\\Local\\Temp\\tmpxiimqv1m\\model.ckpt-1000\n",
      "INFO:tensorflow:Finished evaluation at 2018-01-08-18:21:20\n",
      "INFO:tensorflow:Saving dict for global step 1000: average_loss = 8.31232e-08, global_step = 1000, loss = 3.32493e-07\n",
      "INFO:tensorflow:Starting evaluation at 2018-01-08-18:21:21\n",
      "INFO:tensorflow:Restoring parameters from C:\\Users\\jakex\\AppData\\Local\\Temp\\tmpxiimqv1m\\model.ckpt-1000\n",
      "INFO:tensorflow:Finished evaluation at 2018-01-08-18:21:23\n",
      "INFO:tensorflow:Saving dict for global step 1000: average_loss = 0.00255492, global_step = 1000, loss = 0.0102197\n",
      "train metric: %s {'loss': 3.3249282e-07, 'global_step': 1000, 'average_loss': 8.3123204e-08}\n",
      "eval metric: %s {'loss': 0.010219666, 'global_step': 1000, 'average_loss': 0.0025549165}\n"
     ]
    }
   ],
   "source": [
    "# Evaluation\n",
    "train_metric = estimator.evaluate(input_fn=train_input_fn)\n",
    "eval_metric = estimator.evaluate(input_fn=eval_input_fn)\n",
    "print(\"train metric: %s\", train_metric)\n",
    "print(\"eval metric: %s\", eval_metric)"
   ]
  },
  {
   "cell_type": "code",
   "execution_count": null,
   "metadata": {},
   "outputs": [],
   "source": []
  }
 ],
 "metadata": {
  "kernelspec": {
   "display_name": "Python 3",
   "language": "python",
   "name": "python3"
  },
  "language_info": {
   "codemirror_mode": {
    "name": "ipython",
    "version": 3
   },
   "file_extension": ".py",
   "mimetype": "text/x-python",
   "name": "python",
   "nbconvert_exporter": "python",
   "pygments_lexer": "ipython3",
   "version": "3.5.4"
  }
 },
 "nbformat": 4,
 "nbformat_minor": 2
}
